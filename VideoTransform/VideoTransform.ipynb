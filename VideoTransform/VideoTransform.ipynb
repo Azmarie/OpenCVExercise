{
 "cells": [
  {
   "cell_type": "code",
   "execution_count": 2,
   "metadata": {},
   "outputs": [],
   "source": [
    "import cv2\n",
    "import numpy as np\n",
    "import time\n",
    "import argparse"
   ]
  },
  {
   "cell_type": "code",
   "execution_count": 3,
   "metadata": {},
   "outputs": [],
   "source": [
    "cap = cv2.VideoCapture(\"Input.mp4\")\n"
   ]
  },
  {
   "cell_type": "code",
   "execution_count": 4,
   "metadata": {},
   "outputs": [],
   "source": [
    "for i in range(60):\n",
    "\tret,background = cap.read()"
   ]
  },
  {
   "cell_type": "code",
   "execution_count": 5,
   "metadata": {},
   "outputs": [
    {
     "name": "stdout",
     "output_type": "stream",
     "text": [
      "[[[0 0 1]\n",
      "  [0 0 1]\n",
      "  [0 0 1]\n",
      "  ...\n",
      "  [0 0 1]\n",
      "  [0 0 1]\n",
      "  [0 0 1]]\n",
      "\n",
      " [[0 0 1]\n",
      "  [0 0 1]\n",
      "  [0 0 1]\n",
      "  ...\n",
      "  [0 0 1]\n",
      "  [0 0 1]\n",
      "  [0 0 1]]\n",
      "\n",
      " [[0 0 1]\n",
      "  [0 0 1]\n",
      "  [0 0 1]\n",
      "  ...\n",
      "  [0 0 1]\n",
      "  [0 0 1]\n",
      "  [0 0 1]]\n",
      "\n",
      " ...\n",
      "\n",
      " [[0 0 1]\n",
      "  [0 0 1]\n",
      "  [0 0 1]\n",
      "  ...\n",
      "  [0 0 1]\n",
      "  [0 0 1]\n",
      "  [0 0 1]]\n",
      "\n",
      " [[0 0 1]\n",
      "  [0 0 1]\n",
      "  [0 0 1]\n",
      "  ...\n",
      "  [0 0 1]\n",
      "  [0 0 1]\n",
      "  [0 0 1]]\n",
      "\n",
      " [[0 0 1]\n",
      "  [0 0 1]\n",
      "  [0 0 1]\n",
      "  ...\n",
      "  [0 0 1]\n",
      "  [0 0 1]\n",
      "  [0 0 1]]]\n"
     ]
    }
   ],
   "source": [
    "print(background)"
   ]
  },
  {
   "cell_type": "code",
   "execution_count": 6,
   "metadata": {},
   "outputs": [
    {
     "name": "stdout",
     "output_type": "stream",
     "text": [
      "True\n"
     ]
    }
   ],
   "source": [
    "print(ret)"
   ]
  },
  {
   "cell_type": "code",
   "execution_count": 7,
   "metadata": {},
   "outputs": [],
   "source": [
    "ret, img = cap.read()"
   ]
  },
  {
   "cell_type": "code",
   "execution_count": 8,
   "metadata": {},
   "outputs": [
    {
     "name": "stdout",
     "output_type": "stream",
     "text": [
      "True [[[0 0 1]\n",
      "  [0 0 1]\n",
      "  [0 0 1]\n",
      "  ...\n",
      "  [0 0 1]\n",
      "  [0 0 1]\n",
      "  [0 0 1]]\n",
      "\n",
      " [[0 0 1]\n",
      "  [0 0 1]\n",
      "  [0 0 1]\n",
      "  ...\n",
      "  [0 0 1]\n",
      "  [0 0 1]\n",
      "  [0 0 1]]\n",
      "\n",
      " [[0 0 1]\n",
      "  [0 0 1]\n",
      "  [0 0 1]\n",
      "  ...\n",
      "  [0 0 1]\n",
      "  [0 0 1]\n",
      "  [0 0 1]]\n",
      "\n",
      " ...\n",
      "\n",
      " [[0 0 1]\n",
      "  [0 0 1]\n",
      "  [0 0 1]\n",
      "  ...\n",
      "  [0 0 1]\n",
      "  [0 0 1]\n",
      "  [0 0 1]]\n",
      "\n",
      " [[0 0 1]\n",
      "  [0 0 1]\n",
      "  [0 0 1]\n",
      "  ...\n",
      "  [0 0 1]\n",
      "  [0 0 1]\n",
      "  [0 0 1]]\n",
      "\n",
      " [[0 0 1]\n",
      "  [0 0 1]\n",
      "  [0 0 1]\n",
      "  ...\n",
      "  [0 0 1]\n",
      "  [0 0 1]\n",
      "  [0 0 1]]]\n"
     ]
    }
   ],
   "source": [
    "print(ret, img)"
   ]
  },
  {
   "cell_type": "code",
   "execution_count": 9,
   "metadata": {},
   "outputs": [
    {
     "name": "stdout",
     "output_type": "stream",
     "text": [
      "[[[  0 255   1]\n",
      "  [  0 255   1]\n",
      "  [  0 255   1]\n",
      "  ...\n",
      "  [  0 255   1]\n",
      "  [  0 255   1]\n",
      "  [  0 255   1]]\n",
      "\n",
      " [[  0 255   1]\n",
      "  [  0 255   1]\n",
      "  [  0 255   1]\n",
      "  ...\n",
      "  [  0 255   1]\n",
      "  [  0 255   1]\n",
      "  [  0 255   1]]\n",
      "\n",
      " [[  0 255   1]\n",
      "  [  0 255   1]\n",
      "  [  0 255   1]\n",
      "  ...\n",
      "  [  0 255   1]\n",
      "  [  0 255   1]\n",
      "  [  0 255   1]]\n",
      "\n",
      " ...\n",
      "\n",
      " [[  0 255   1]\n",
      "  [  0 255   1]\n",
      "  [  0 255   1]\n",
      "  ...\n",
      "  [  0 255   1]\n",
      "  [  0 255   1]\n",
      "  [  0 255   1]]\n",
      "\n",
      " [[  0 255   1]\n",
      "  [  0 255   1]\n",
      "  [  0 255   1]\n",
      "  ...\n",
      "  [  0 255   1]\n",
      "  [  0 255   1]\n",
      "  [  0 255   1]]\n",
      "\n",
      " [[  0 255   1]\n",
      "  [  0 255   1]\n",
      "  [  0 255   1]\n",
      "  ...\n",
      "  [  0 255   1]\n",
      "  [  0 255   1]\n",
      "  [  0 255   1]]]\n"
     ]
    }
   ],
   "source": [
    "hsv = cv2.cvtColor(img, cv2.COLOR_BGR2HSV)\n",
    "print(hsv)"
   ]
  },
  {
   "cell_type": "code",
   "execution_count": 10,
   "metadata": {},
   "outputs": [
    {
     "name": "stdout",
     "output_type": "stream",
     "text": [
      "2764800\n"
     ]
    }
   ],
   "source": [
    "print(img.size)"
   ]
  },
  {
   "cell_type": "code",
   "execution_count": 11,
   "metadata": {},
   "outputs": [
    {
     "name": "stdout",
     "output_type": "stream",
     "text": [
      "(720, 1280, 3)\n"
     ]
    }
   ],
   "source": [
    "print(img.shape)"
   ]
  },
  {
   "cell_type": "code",
   "execution_count": 12,
   "metadata": {},
   "outputs": [
    {
     "ename": "AttributeError",
     "evalue": "'numpy.ndarray' object has no attribute 'width'",
     "output_type": "error",
     "traceback": [
      "\u001b[0;31m---------------------------------------------------------------------------\u001b[0m",
      "\u001b[0;31mAttributeError\u001b[0m                            Traceback (most recent call last)",
      "\u001b[0;32m<ipython-input-12-28a7948e39c9>\u001b[0m in \u001b[0;36m<module>\u001b[0;34m\u001b[0m\n\u001b[0;32m----> 1\u001b[0;31m \u001b[0mimg\u001b[0m\u001b[0;34m.\u001b[0m\u001b[0mwidth\u001b[0m\u001b[0;34m\u001b[0m\u001b[0;34m\u001b[0m\u001b[0m\n\u001b[0m",
      "\u001b[0;31mAttributeError\u001b[0m: 'numpy.ndarray' object has no attribute 'width'"
     ]
    }
   ],
   "source": [
    "img.width"
   ]
  },
  {
   "cell_type": "code",
   "execution_count": 13,
   "metadata": {},
   "outputs": [],
   "source": [
    "height, width, channels = img.shape"
   ]
  },
  {
   "cell_type": "code",
   "execution_count": 14,
   "metadata": {},
   "outputs": [
    {
     "data": {
      "text/plain": [
       "720"
      ]
     },
     "execution_count": 14,
     "metadata": {},
     "output_type": "execute_result"
    }
   ],
   "source": [
    "height"
   ]
  },
  {
   "cell_type": "code",
   "execution_count": null,
   "metadata": {},
   "outputs": [],
   "source": []
  }
 ],
 "metadata": {
  "kernelspec": {
   "display_name": "Python 3",
   "language": "python",
   "name": "python3"
  },
  "language_info": {
   "codemirror_mode": {
    "name": "ipython",
    "version": 3
   },
   "file_extension": ".py",
   "mimetype": "text/x-python",
   "name": "python",
   "nbconvert_exporter": "python",
   "pygments_lexer": "ipython3",
   "version": "3.7.3"
  }
 },
 "nbformat": 4,
 "nbformat_minor": 2
}
